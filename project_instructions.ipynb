{
 "cells": [
  {
   "cell_type": "markdown",
   "id": "d689d910",
   "metadata": {},
   "source": [
    "### Descripción del proyecto\n",
    "\n",
    "La compañía móvil Megaline no está satisfecha al ver que muchos de sus clientes utilizan planes heredados. Quieren desarrollar un modelo que pueda analizar el comportamiento de los clientes y recomendar uno de los nuevos planes de Megaline: Smart o Ultra.\n",
    "\n",
    "Tienes acceso a los datos de comportamiento de los suscriptores que ya se han cambiado a los planes nuevos (del proyecto del sprint de Análisis estadístico de datos). Para esta tarea de clasificación debes crear un modelo que escoja el plan correcto. Como ya hiciste el paso de procesar los datos, puedes lanzarte directo a crear el modelo.\n",
    "\n",
    "Desarrolla un modelo con la mayor exactitud posible. En este proyecto, el umbral de exactitud es 0.75. Usa el dataset para comprobar la exactitud.\n",
    "\n",
    "### Instrucciones del proyecto.\n",
    "\n",
    "1. Abre y examina el archivo de datos. Dirección al archivo:/datasets/users_behavior.csv Descarga el dataset\n",
    "2. Segmenta los datos fuente en un conjunto de entrenamiento, uno de validación y uno de prueba.\n",
    "3. Investiga la calidad de diferentes modelos cambiando los hiperparámetros. Describe brevemente los hallazgos del estudio.\n",
    "3. Comprueba la calidad del modelo usando el conjunto de prueba.\n",
    "4. Tarea adicional: haz una prueba de cordura al modelo. Estos datos son más complejos que los que habías usado antes así que no será una tarea fácil. Más adelante lo veremos con más detalle.\n",
    "\n",
    "### Descripción de datos\n",
    "\n",
    "Cada observación en el dataset contiene información del comportamiento mensual sobre un usuario. La información dada es la siguiente:\n",
    "\n",
    "- сalls — número de llamadas,\n",
    "- minutes — duración total de la llamada en minutos,\n",
    "- messages — número de mensajes de texto,\n",
    "- mb_used — Tráfico de Internet utilizado en MB,\n",
    "- is_ultra — plan para el mes actual (Ultra - 1, Smart - 0).\n",
    "\n",
    "### Evaluación del proyecto\n",
    "\n",
    "Hemos definido los criterios de evaluación para el proyecto. Lee esto con atención antes de pasar al ejercicio. \n",
    "\n",
    "Esto es lo que los revisores buscarán cuando evalúen tu proyecto:\n",
    "\n",
    "- ¿Cómo leíste los datos después de descargarlos?\n",
    "- ¿Segmentaste correctamente los datos en conjuntos de entrenamiento, validación y prueba?\n",
    "- ¿Cómo escogiste el tamaño de los conjuntos?\n",
    "- ¿Evaluaste correctamente la calidad del modelo?\n",
    "- ¿Qué modelos e hiperparámentros usaste?\n",
    "- ¿Cuáles fueron tus hallazgos?\n",
    "- ¿Probaste los modelos correctamente?\n",
    "- ¿Cuál es tu puntuación de exactitud?\n",
    "- ¿Te ceñiste a la estructura del proyecto y mantuviste limpio el código?\n",
    "\n",
    "Tienes tus hojas informativas y los resúmenes de los capítulos así que ya puedes continuar con el proyecto.\n",
    "\n",
    "¡Buena suerte!"
   ]
  }
 ],
 "metadata": {
  "language_info": {
   "name": "python"
  }
 },
 "nbformat": 4,
 "nbformat_minor": 5
}
