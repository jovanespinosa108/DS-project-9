{
 "cells": [
  {
   "cell_type": "markdown",
   "id": "34f325ee",
   "metadata": {},
   "source": [
    "Megaline company is unsatisfy to descover many clients are using inherited plans. They want to develop a ML model to anlizye the customer's behavior to recommend one of the new plans: Smart and Ultra.\n",
    "\n",
    "Access to behavioral data of subsribers who have already switched to the new plans.\n",
    "\n",
    "- Crate a model that choose the correct plan\n",
    "- Model developed accuracy threshold is 0.75"
   ]
  },
  {
   "cell_type": "code",
   "execution_count": 5,
   "id": "d29db1e6",
   "metadata": {},
   "outputs": [
    {
     "name": "stdout",
     "output_type": "stream",
     "text": [
      "   calls  minutes  messages   mb_used  is_ultra\n",
      "0   40.0   311.90      83.0  19915.42         0\n",
      "1   85.0   516.75      56.0  22696.96         0\n",
      "2   77.0   467.66      86.0  21060.45         0\n",
      "3  106.0   745.53      81.0   8437.39         1\n",
      "4   66.0   418.74       1.0  14502.75         0\n",
      "\n",
      "<class 'pandas.core.frame.DataFrame'>\n",
      "RangeIndex: 3214 entries, 0 to 3213\n",
      "Data columns (total 5 columns):\n",
      " #   Column    Non-Null Count  Dtype  \n",
      "---  ------    --------------  -----  \n",
      " 0   calls     3214 non-null   float64\n",
      " 1   minutes   3214 non-null   float64\n",
      " 2   messages  3214 non-null   float64\n",
      " 3   mb_used   3214 non-null   float64\n",
      " 4   is_ultra  3214 non-null   int64  \n",
      "dtypes: float64(4), int64(1)\n",
      "memory usage: 125.7 KB\n",
      "None\n",
      "\n",
      "             calls      minutes     messages       mb_used     is_ultra\n",
      "count  3214.000000  3214.000000  3214.000000   3214.000000  3214.000000\n",
      "mean     63.038892   438.208787    38.281269  17207.673836     0.306472\n",
      "std      33.236368   234.569872    36.148326   7570.968246     0.461100\n",
      "min       0.000000     0.000000     0.000000      0.000000     0.000000\n",
      "25%      40.000000   274.575000     9.000000  12491.902500     0.000000\n",
      "50%      62.000000   430.600000    30.000000  16943.235000     0.000000\n",
      "75%      82.000000   571.927500    57.000000  21424.700000     1.000000\n",
      "max     244.000000  1632.060000   224.000000  49745.730000     1.000000\n"
     ]
    }
   ],
   "source": [
    "# Load libraries\n",
    "import pandas as pd\n",
    "from sklearn.tree import DecisionTreeClassifier\n",
    "from sklearn.model_selection import train_test_split\n",
    "from sklearn.metrics import accuracy_score\n",
    "\n",
    "\n",
    "# load file\n",
    "df = pd.read_csv('users_behavior.csv')\n",
    "\n",
    "# overview of dataset\n",
    "print(df.head())\n",
    "print()\n",
    "print(df.info())\n",
    "print()\n",
    "print(df.describe())"
   ]
  },
  {
   "cell_type": "markdown",
   "id": "e6e5afac",
   "metadata": {},
   "source": [
    "We can see that the head() method help us to understand the information that holds the df, there is one characteristic that contains the plans ultra and smart, no need to divided and create the column, we do not found any Null value, so no need to clean the data, we also can see what is the mean value for every columns, specialy for the mb_used characteristic to know what is the accuracy value to search."
   ]
  },
  {
   "cell_type": "code",
   "execution_count": 6,
   "id": "f0c2f1b1",
   "metadata": {},
   "outputs": [
    {
     "name": "stdout",
     "output_type": "stream",
     "text": [
      "\n",
      "max_depth = 1 : Validation Accuracy: 0.6967340590979783\n",
      "Test Accuracy: 0.7744945567651633\n",
      "\n",
      "max_depth = 2 : Validation Accuracy: 0.7262830482115086\n",
      "Test Accuracy: 0.7947122861586314\n",
      "\n",
      "max_depth = 3 : Validation Accuracy: 0.7216174183514774\n",
      "Test Accuracy: 0.7931570762052877\n",
      "\n",
      "max_depth = 4 : Validation Accuracy: 0.7387247278382582\n",
      "Test Accuracy: 0.7962674961119751\n",
      "\n",
      "max_depth = 5 : Validation Accuracy: 0.7278382581648523\n",
      "Test Accuracy: 0.7822706065318819\n"
     ]
    }
   ],
   "source": [
    "# segment the source data to train, validation and test 20% of data and train with 60%\n",
    "df_train, df_temp = train_test_split(df, test_size=0.40, random_state=54321)\n",
    "df_valid, df_test = train_test_split(df_temp, test_size=0.50, random_state=54321)\n",
    "\n",
    "\n",
    "# Declare variables for characteristics and objective\n",
    "features_train = df_train.drop(['mb_used', 'is_ultra'], axis=1)\n",
    "target_train = df_train['is_ultra']\n",
    "features_valid = df_valid.drop(['mb_used', 'is_ultra'], axis=1)\n",
    "target_valid = df_valid['is_ultra']\n",
    "features_test = df_test.drop(['mb_used', 'is_ultra'], axis=1)\n",
    "target_test = df_test['is_ultra']\n",
    "\n",
    "# Arbol de decision\n",
    "# Create loop for max_depth from 1 to 5 >\n",
    "for depth in range(1,6):\n",
    "    # Crete model & specify max_depth=depth\n",
    "    model = DecisionTreeClassifier(max_depth=depth, random_state=12345)# < crea un modelo, especificar max_depth=depth >\n",
    "    # Train the model\n",
    "    model.fit(features_train, target_train)\n",
    "    # find the predictions using the validation set\n",
    "    predictions_valid =  model.predict(features_valid) # < encuentra las predicciones usando el conjunto de validación >\n",
    "\n",
    "    print('\\nmax_depth =', depth, ': ', end='')\n",
    "    print('Validation Accuracy:', accuracy_score(target_valid, predictions_valid))\n",
    "\n",
    "    test_predictions = model.predict(features_test)\n",
    "    print('Test Accuracy:', accuracy_score(target_test, test_predictions))"
   ]
  },
  {
   "cell_type": "code",
   "execution_count": 7,
   "id": "9d972fe0",
   "metadata": {},
   "outputs": [
    {
     "name": "stdout",
     "output_type": "stream",
     "text": [
      "Result 1 Prediction model: Ultra\n",
      "Result 2 Prediction model: Smart\n",
      "Result 3 Prediction model: Smart\n",
      "Result 4 Prediction model: Smart\n",
      "Result 5 Prediction model: Smart\n"
     ]
    }
   ],
   "source": [
    "# Sanity Check\n",
    "# train the final model\n",
    "final_model = DecisionTreeClassifier(max_depth=3, random_state=12345)\n",
    "final_model.fit(features_train, target_train)\n",
    "\n",
    "# create dataset with dummy data\n",
    "sanity_data = pd.DataFrame({\n",
    "    'calls': [150,25,67,30,140],\n",
    "    'minutes': [900,130,500,230,1400],\n",
    "    'messages' : [35,20,2,55,300],\n",
    "    'mb_used' : [35000, 17000, 1000, 25000, 50000]\n",
    "})\n",
    "\n",
    "sanity_features = sanity_data.drop('mb_used', axis=1)\n",
    "\n",
    "sanity_predictions = final_model.predict(sanity_features)\n",
    "\n",
    "for i, pred in enumerate(sanity_predictions):\n",
    "    plan = 'Ultra' if pred == 1 else 'Smart'\n",
    "\n",
    "    print(f'Result {i+1} Prediction model: {plan}')\n"
   ]
  },
  {
   "cell_type": "markdown",
   "id": "735c85d3",
   "metadata": {},
   "source": [
    "Conclusion:\n",
    "\n",
    "I used different models to find out that the Decision Tree Classifier is the one that get the 0.75 requested by the project.\n",
    "\n",
    "These were the outputs for the other models:\n",
    "\n",
    "### Random Forest model: \n",
    "\n",
    "La exactitud del mejor modelo en el conjunto de validación (n_estimators = 100): 0.7276119402985075\n",
    "\n",
    "### Logistinc Regression model:\n",
    "\n",
    "Accuracy del modelo de regresión logística en el conjunto de entrenamiento: 0.7331950207468879\n",
    "Accuracy del modelo de regresión logística en el conjunto de validación: 0.7437810945273632\n",
    "\n",
    "### Decision Tree Classifier model:\n",
    "\n",
    "max_depth = 1 : Validation Accuracy: 0.747355320472931\n",
    "Test Accuracy: 0.7442439327940261\n",
    "\n",
    "max_depth = 2 : Validation Accuracy: 0.7697573117610454\n",
    "Test Accuracy: 0.7672682016179216\n",
    "\n",
    "max_depth = 3 : Validation Accuracy: 0.7753578095830741\n",
    "Test Accuracy: 0.7741132545115121\n",
    "\n",
    "max_depth = 4 : Validation Accuracy: 0.7797137523335408\n",
    "Test Accuracy: 0.7710018668326073\n",
    "\n",
    "max_depth = 5 : Validation Accuracy: 0.7809583074051026\n",
    "Test Accuracy: 0.775980087118855\n",
    "\n",
    "The last model learned reasonable patterns, and passed the Sanity Check by using dummy data to make sure the model is not learning obvious patterns."
   ]
  },
  {
   "cell_type": "code",
   "execution_count": null,
   "id": "06dd627f",
   "metadata": {},
   "outputs": [],
   "source": []
  }
 ],
 "metadata": {
  "kernelspec": {
   "display_name": "megaline_env",
   "language": "python",
   "name": "python3"
  },
  "language_info": {
   "codemirror_mode": {
    "name": "ipython",
    "version": 3
   },
   "file_extension": ".py",
   "mimetype": "text/x-python",
   "name": "python",
   "nbconvert_exporter": "python",
   "pygments_lexer": "ipython3",
   "version": "3.12.9"
  }
 },
 "nbformat": 4,
 "nbformat_minor": 5
}
